{
 "cells": [
  {
   "cell_type": "markdown",
   "metadata": {},
   "source": [
    "### VisDialPool 0.9 from VisDial 0.9\n",
    "The following script reads the VisDial 0.9 dataset and constructs a new dataset, which we henceforth call VisDial-Pool 0.9. The new dataset contains fixed-size pools of (in this case) randomly picked images from the input dataset, meant to be used in the process of fine-tuning the VisDial bots. A variety of pools can and will be constructed as well, ranging from pools of easy-to-distinguish images to pools of highly similar images."
   ]
  },
  {
   "cell_type": "code",
   "execution_count": null,
   "metadata": {
    "collapsed": true
   },
   "outputs": [],
   "source": [
    "import json\n",
    "import numpy as np\n",
    "## Open and load the VisDial0.9 Validation JSON file\n",
    "with open(\"../../Data/VisDial0.9/visdial_0.9_val.json\", \"r\") as f:\n",
    "    data = json.load(f)"
   ]
  },
  {
   "cell_type": "code",
   "execution_count": 26,
   "metadata": {},
   "outputs": [
    {
     "name": "stdout",
     "output_type": "stream",
     "text": [
      "40504\n"
     ]
    }
   ],
   "source": [
    "num_dialogs = len(data['data']['dialogs'])\n",
    "print num_dialogs"
   ]
  },
  {
   "cell_type": "code",
   "execution_count": 27,
   "metadata": {},
   "outputs": [],
   "source": [
    "coco_img_ids = [] # COCO image IDs in the JSON stored here\n",
    "for iter in xrange(num_dialogs):\n",
    "    coco_img_ids.append(data['data']['dialogs'][iter]['image_id'])"
   ]
  },
  {
   "cell_type": "code",
   "execution_count": 28,
   "metadata": {},
   "outputs": [
    {
     "name": "stdout",
     "output_type": "stream",
     "text": [
      "40504\n"
     ]
    }
   ],
   "source": [
    "print len(coco_img_ids)"
   ]
  },
  {
   "cell_type": "code",
   "execution_count": 29,
   "metadata": {
    "collapsed": true
   },
   "outputs": [],
   "source": [
    "np.random.shuffle(coco_img_ids) # Randomly shuffle the COCO image IDs"
   ]
  },
  {
   "cell_type": "code",
   "execution_count": 30,
   "metadata": {},
   "outputs": [
    {
     "name": "stdout",
     "output_type": "stream",
     "text": [
      "40500\n",
      "40504\n"
     ]
    }
   ],
   "source": [
    "pool_size = 100 # The size of each pool\n",
    "# Number of random pools; need to trim off last 4 images and dialogs (or len(coco_img_ids)%pool_size, to be precise)\n",
    "num_pools = len(coco_img_ids)/pool_size\n",
    "\n",
    "trim_start = len(coco_img_ids) - len(coco_img_ids)%pool_size\n",
    "trim_end = len(coco_img_ids)\n",
    "\n",
    "print(trim_start)\n",
    "print(trim_end)\n"
   ]
  },
  {
   "cell_type": "code",
   "execution_count": 31,
   "metadata": {
    "collapsed": true
   },
   "outputs": [],
   "source": [
    "trim_img_ids = [coco_img_ids[index] for index in xrange(trim_start, trim_end)]\n",
    "\n",
    "pools = dict()\n",
    "img_pools = dict()\n",
    "\n",
    "for pool_iter in xrange(num_pools):\n",
    "    pool_id = pool_iter\n",
    "    img_ids = []\n",
    "    for img_iter in xrange(pool_size):\n",
    "        img_id = coco_img_ids[pool_iter*pool_size + img_iter]\n",
    "        img_ids.append(img_id)\n",
    "        img_pools[img_id] = pool_id # Which pool does each image belong to (distinct by construction)?\n",
    "    pools[pool_id] = img_ids # Each pool contains which images (distinct by construction)?\n"
   ]
  },
  {
   "cell_type": "code",
   "execution_count": 32,
   "metadata": {},
   "outputs": [
    {
     "name": "stdout",
     "output_type": "stream",
     "text": [
      "405\n",
      "40500\n",
      "[132578, 49445, 396404, 376959]\n"
     ]
    }
   ],
   "source": [
    "print(len(pools))\n",
    "print(len(img_pools))\n",
    "print(trim_img_ids)"
   ]
  },
  {
   "cell_type": "code",
   "execution_count": 33,
   "metadata": {},
   "outputs": [],
   "source": [
    "# Store all the pools globally and later reference them in each dialog by index\n",
    "data['data']['pools'] = [pools[pool_iter] for pool_iter in xrange(num_pools)]"
   ]
  },
  {
   "cell_type": "code",
   "execution_count": 35,
   "metadata": {},
   "outputs": [
    {
     "name": "stdout",
     "output_type": "stream",
     "text": [
      "[1985, 12049, 18338, 27456]\n"
     ]
    }
   ],
   "source": [
    "del_indices = []\n",
    "for iter in xrange(num_dialogs):\n",
    "    img_id = data['data']['dialogs'][iter]['image_id']\n",
    "    if img_id not in img_pools:\n",
    "        if img_id not in trim_img_ids:\n",
    "            print(\"INVESTIGATE! Something is seriously wrong with the dataset! Img ID = \" + str(img_id))\n",
    "        # No pool exists with this image, need to throw this dialog from the JSON and continue\n",
    "        del_indices.append(iter)\n",
    "        continue\n",
    "    pool_id = img_pools[img_id]\n",
    "    data['data']['dialogs'][iter]['pool_id'] = pool_id\n",
    "\n",
    "print(del_indices)"
   ]
  },
  {
   "cell_type": "code",
   "execution_count": 36,
   "metadata": {
    "collapsed": true
   },
   "outputs": [],
   "source": [
    "## Delete dialogs corresponding to images that are no longer to be considered\n",
    "for index in del_indices:\n",
    "    del data['data']['dialogs'][index]"
   ]
  },
  {
   "cell_type": "code",
   "execution_count": 37,
   "metadata": {
    "collapsed": true
   },
   "outputs": [],
   "source": [
    "## Storing additionally beneficial metadata\n",
    "data['data']['pool_size'] = pool_size\n",
    "data['type'] = \"Val_RandomShufflePool\"\n",
    "\n",
    "with open(\"../../Data/VisDial0.9/visdialpool_0.9_val_randomshuffle.json\", \"w\") as f:\n",
    "    json.dump(data, f)"
   ]
  },
  {
   "cell_type": "code",
   "execution_count": null,
   "metadata": {
    "collapsed": true
   },
   "outputs": [],
   "source": []
  },
  {
   "cell_type": "code",
   "execution_count": null,
   "metadata": {},
   "outputs": [],
   "source": []
  },
  {
   "cell_type": "code",
   "execution_count": null,
   "metadata": {
    "collapsed": true
   },
   "outputs": [],
   "source": []
  }
 ],
 "metadata": {
  "kernelspec": {
   "display_name": "Python 2",
   "language": "python",
   "name": "python2"
  },
  "language_info": {
   "codemirror_mode": {
    "name": "ipython",
    "version": 2
   },
   "file_extension": ".py",
   "mimetype": "text/x-python",
   "name": "python",
   "nbconvert_exporter": "python",
   "pygments_lexer": "ipython2",
   "version": "2.7.13"
  }
 },
 "nbformat": 4,
 "nbformat_minor": 2
}
