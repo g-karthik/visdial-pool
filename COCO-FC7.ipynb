{
 "cells": [
  {
   "cell_type": "code",
   "execution_count": 25,
   "metadata": {},
   "outputs": [],
   "source": [
    "import json\n",
    "import numpy as np\n",
    "## Open and load the VisDial0.9 Validation JSON file\n",
    "with open(\"../../Data/VisDial0.9/visdial_0.9_val.json\", \"r\") as f:\n",
    "    data = json.load(f)"
   ]
  },
  {
   "cell_type": "code",
   "execution_count": 26,
   "metadata": {},
   "outputs": [
    {
     "name": "stdout",
     "output_type": "stream",
     "text": [
      "40504\n"
     ]
    }
   ],
   "source": [
    "num_dialogs = len(data['data']['dialogs'])\n",
    "print num_dialogs"
   ]
  },
  {
   "cell_type": "code",
   "execution_count": 27,
   "metadata": {},
   "outputs": [],
   "source": [
    "coco_img_ids = [] # COCO image IDs in the JSON stored here\n",
    "for iter in xrange(num_dialogs):\n",
    "    coco_img_ids.append(data['data']['dialogs'][iter]['image_id'])"
   ]
  },
  {
   "cell_type": "code",
   "execution_count": 28,
   "metadata": {},
   "outputs": [
    {
     "name": "stdout",
     "output_type": "stream",
     "text": [
      "40504\n"
     ]
    }
   ],
   "source": [
    "print len(coco_img_ids)"
   ]
  },
  {
   "cell_type": "code",
   "execution_count": 29,
   "metadata": {
    "collapsed": true
   },
   "outputs": [],
   "source": [
    "np.random.shuffle(coco_img_ids) # Randomly shuffle the COCO image IDs"
   ]
  },
  {
   "cell_type": "code",
   "execution_count": 30,
   "metadata": {},
   "outputs": [
    {
     "name": "stdout",
     "output_type": "stream",
     "text": [
      "40500\n",
      "40504\n"
     ]
    }
   ],
   "source": [
    "pool_size = 100 # The size of each pool\n",
    "# Number of random pools; need to trim off last 4 images and dialogs (or len(coco_img_ids)%pool_size, to be precise)\n",
    "num_pools = len(coco_img_ids)/pool_size\n",
    "\n",
    "trim_start = len(coco_img_ids) - len(coco_img_ids)%pool_size\n",
    "trim_end = len(coco_img_ids)\n",
    "\n",
    "print(trim_start)\n",
    "print(trim_end)\n"
   ]
  },
  {
   "cell_type": "code",
   "execution_count": 31,
   "metadata": {
    "collapsed": true
   },
   "outputs": [],
   "source": [
    "trim_img_ids = [coco_img_ids[index] for index in xrange(trim_start, trim_end)]\n",
    "\n",
    "pools = dict()\n",
    "img_pools = dict()\n",
    "\n",
    "for pool_iter in xrange(num_pools):\n",
    "    pool_id = pool_iter\n",
    "    img_ids = []\n",
    "    for img_iter in xrange(pool_size):\n",
    "        img_id = coco_img_ids[pool_iter*pool_size + img_iter]\n",
    "        img_ids.append(img_id)\n",
    "        img_pools[img_id] = pool_id # Which pool does each image belong to (distinct by construction)?\n",
    "    pools[pool_id] = img_ids # Each pool contains which images (distinct by construction)?\n"
   ]
  },
  {
   "cell_type": "code",
   "execution_count": 32,
   "metadata": {},
   "outputs": [
    {
     "name": "stdout",
     "output_type": "stream",
     "text": [
      "405\n",
      "40500\n",
      "[132578, 49445, 396404, 376959]\n"
     ]
    }
   ],
   "source": [
    "print(len(pools))\n",
    "print(len(img_pools))\n",
    "print(trim_img_ids)"
   ]
  },
  {
   "cell_type": "code",
   "execution_count": 24,
   "metadata": {},
   "outputs": [],
   "source": [
    "#for pool_iter in xrange(num_pools):\n",
    "#    data['data']['pools'][pool_iter] = pools[pool_iter]\n",
    "\n",
    "data['data']['pools']\n"
   ]
  },
  {
   "cell_type": "code",
   "execution_count": null,
   "metadata": {
    "collapsed": true
   },
   "outputs": [],
   "source": []
  }
 ],
 "metadata": {
  "kernelspec": {
   "display_name": "Python 2",
   "language": "python",
   "name": "python2"
  },
  "language_info": {
   "codemirror_mode": {
    "name": "ipython",
    "version": 2
   },
   "file_extension": ".py",
   "mimetype": "text/x-python",
   "name": "python",
   "nbconvert_exporter": "python",
   "pygments_lexer": "ipython2",
   "version": "2.7.13"
  }
 },
 "nbformat": 4,
 "nbformat_minor": 2
}
